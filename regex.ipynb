{
 "cells": [
  {
   "cell_type": "code",
   "execution_count": 1,
   "metadata": {},
   "outputs": [],
   "source": [
    "##Python Tutorial: re Module - How to Write and Match Regular Expressions (Regex)"
   ]
  },
  {
   "cell_type": "code",
   "execution_count": 2,
   "metadata": {},
   "outputs": [],
   "source": [
    "import re\n",
    "\n",
    "text_to_search = '''\n",
    "abcdefghijklmnopqurtuvwxyz\n",
    "ABCDEFGHIJKLMNOPQRSTUVWXYZ\n",
    "1234567890\n",
    "Ha HaHa\n",
    "MetaCharacters (Need to be escaped):\n",
    ". ^ $ * + ? { } [ ] \\ | ( )\n",
    "coreyms.com\n",
    "321-555-4321\n",
    "123.555.1234\n",
    "123*555*1234\n",
    "800-555-1234\n",
    "900-555-1234\n",
    "Mr. Schafer\n",
    "Mr Smith\n",
    "Ms Davis\n",
    "Mrs. Robinson\n",
    "Mr. T\n",
    "'''\n",
    "\n",
    "sentence = 'Start a sentence and then bring it to an end'"
   ]
  },
  {
   "cell_type": "code",
   "execution_count": 3,
   "metadata": {},
   "outputs": [
    {
     "name": "stdout",
     "output_type": "stream",
     "text": [
      "<re.Match object; span=(1, 4), match='abc'>\n"
     ]
    }
   ],
   "source": [
    "pattern=re.compile(r'abc')\n",
    "\n",
    "\n",
    "matches=pattern.finditer(text_to_search)\n",
    "\n",
    "for match in matches:\n",
    "    print(match)\n",
    "    \n"
   ]
  },
  {
   "cell_type": "code",
   "execution_count": 4,
   "metadata": {},
   "outputs": [
    {
     "name": "stdout",
     "output_type": "stream",
     "text": [
      "abc\n"
     ]
    }
   ],
   "source": [
    "print(text_to_search[1:4])"
   ]
  },
  {
   "cell_type": "code",
   "execution_count": 12,
   "metadata": {},
   "outputs": [
    {
     "name": "stdout",
     "output_type": "stream",
     "text": [
      "<re.Match object; span=(0, 1), match='\\n'>\n",
      "<re.Match object; span=(27, 28), match='\\n'>\n",
      "<re.Match object; span=(54, 55), match='\\n'>\n",
      "<re.Match object; span=(65, 66), match='\\n'>\n",
      "<re.Match object; span=(68, 69), match=' '>\n",
      "<re.Match object; span=(73, 74), match='\\n'>\n",
      "<re.Match object; span=(88, 89), match=' '>\n",
      "<re.Match object; span=(94, 95), match=' '>\n",
      "<re.Match object; span=(97, 98), match=' '>\n",
      "<re.Match object; span=(100, 101), match=' '>\n",
      "<re.Match object; span=(110, 111), match='\\n'>\n",
      "<re.Match object; span=(112, 113), match=' '>\n",
      "<re.Match object; span=(114, 115), match=' '>\n",
      "<re.Match object; span=(116, 117), match=' '>\n",
      "<re.Match object; span=(118, 119), match=' '>\n",
      "<re.Match object; span=(120, 121), match=' '>\n",
      "<re.Match object; span=(122, 123), match=' '>\n",
      "<re.Match object; span=(124, 125), match=' '>\n",
      "<re.Match object; span=(126, 127), match=' '>\n",
      "<re.Match object; span=(128, 129), match=' '>\n",
      "<re.Match object; span=(130, 131), match=' '>\n",
      "<re.Match object; span=(132, 133), match=' '>\n",
      "<re.Match object; span=(134, 135), match=' '>\n",
      "<re.Match object; span=(136, 137), match=' '>\n",
      "<re.Match object; span=(138, 139), match='\\n'>\n",
      "<re.Match object; span=(150, 151), match='\\n'>\n",
      "<re.Match object; span=(163, 164), match='\\n'>\n",
      "<re.Match object; span=(176, 177), match='\\n'>\n",
      "<re.Match object; span=(189, 190), match='\\n'>\n",
      "<re.Match object; span=(202, 203), match='\\n'>\n",
      "<re.Match object; span=(215, 216), match='\\n'>\n",
      "<re.Match object; span=(219, 220), match=' '>\n",
      "<re.Match object; span=(227, 228), match='\\n'>\n",
      "<re.Match object; span=(230, 231), match=' '>\n",
      "<re.Match object; span=(236, 237), match='\\n'>\n",
      "<re.Match object; span=(239, 240), match=' '>\n",
      "<re.Match object; span=(245, 246), match='\\n'>\n",
      "<re.Match object; span=(250, 251), match=' '>\n",
      "<re.Match object; span=(259, 260), match='\\n'>\n",
      "<re.Match object; span=(263, 264), match=' '>\n",
      "<re.Match object; span=(265, 266), match='\\n'>\n"
     ]
    }
   ],
   "source": [
    "pattern=re.compile(r'\\s')\n",
    "\n",
    "\n",
    "matches=pattern.finditer(text_to_search)\n",
    "\n",
    "for match in matches:\n",
    "    print(match)"
   ]
  },
  {
   "cell_type": "code",
   "execution_count": 17,
   "metadata": {},
   "outputs": [
    {
     "name": "stdout",
     "output_type": "stream",
     "text": [
      "<re.Match object; span=(0, 5), match='Start'>\n"
     ]
    }
   ],
   "source": [
    "pattern=re.compile(r'^Start')\n",
    "\n",
    "\n",
    "matches=pattern.finditer(sentence)\n",
    "\n",
    "for match in matches:\n",
    "    print(match)"
   ]
  },
  {
   "cell_type": "code",
   "execution_count": 20,
   "metadata": {},
   "outputs": [
    {
     "name": "stdout",
     "output_type": "stream",
     "text": [
      "<re.Match object; span=(41, 44), match='end'>\n"
     ]
    }
   ],
   "source": [
    "pattern=re.compile(r'end$')\n",
    "\n",
    "\n",
    "matches=pattern.finditer(sentence)\n",
    "\n",
    "for match in matches:\n",
    "    print(match)"
   ]
  },
  {
   "cell_type": "code",
   "execution_count": 24,
   "metadata": {},
   "outputs": [
    {
     "name": "stdout",
     "output_type": "stream",
     "text": [
      "<re.Match object; span=(151, 162), match='321-555-432'>\n",
      "<re.Match object; span=(164, 175), match='123.555.123'>\n",
      "<re.Match object; span=(177, 188), match='123*555*123'>\n",
      "<re.Match object; span=(190, 201), match='800-555-123'>\n",
      "<re.Match object; span=(203, 214), match='900-555-123'>\n"
     ]
    }
   ],
   "source": [
    "pattern=re.compile(r'\\d\\d\\d.\\d\\d\\d.\\d\\d\\d')\n",
    "\n",
    "\n",
    "matches=pattern.finditer(text_to_search)\n",
    "\n",
    "for match in matches:\n",
    "    print(match)"
   ]
  },
  {
   "cell_type": "code",
   "execution_count": 5,
   "metadata": {},
   "outputs": [
    {
     "ename": "SyntaxError",
     "evalue": "invalid syntax (<ipython-input-5-99adb76a0a20>, line 1)",
     "output_type": "error",
     "traceback": [
      "\u001b[0;36m  File \u001b[0;32m\"<ipython-input-5-99adb76a0a20>\"\u001b[0;36m, line \u001b[0;32m1\u001b[0m\n\u001b[0;31m    .       - Any Character Except New Line\u001b[0m\n\u001b[0m    ^\u001b[0m\n\u001b[0;31mSyntaxError\u001b[0m\u001b[0;31m:\u001b[0m invalid syntax\n"
     ]
    }
   ],
   "source": [
    "\n",
    ".       - Any Character Except New Line\n",
    "\\d      - Digit (0-9)\n",
    "\\D      - Not a Digit (0-9)\n",
    "\\w      - Word Character (a-z, A-Z, 0-9, _)\n",
    "\\W      - Not a Word Character\n",
    "\\s      - Whitespace (space, tab, newline)\n",
    "\\S      - Not Whitespace (space, tab, newline)\n",
    "\n",
    "\\b      - Word Boundary\n",
    "\\B      - Not a Word Boundary\n",
    "^       - Beginning of a String\n",
    "$       - End of a String\n",
    "\n",
    "[]      - Matches Characters in brackets\n",
    "[^ ]    - Matches Characters NOT in brackets\n",
    "|       - Either Or\n",
    "( )     - Group\n",
    "\n",
    "Quantifiers:\n",
    "*       - 0 or More\n",
    "+       - 1 or More\n",
    "?       - 0 or One\n",
    "{3}     - Exact Number\n",
    "{3,4}   - Range of Numbers (Minimum, Maximum)\n",
    "\n",
    "\n",
    "#### Sample Regexs ####\n",
    "\n",
    "[a-zA-Z0-9_.+-]+@[a-zA-Z0-9-]+\\.[a-zA-Z0-9-.]+"
   ]
  },
  {
   "cell_type": "code",
   "execution_count": null,
   "metadata": {},
   "outputs": [],
   "source": [
    "with open (\"data.txt\",\"r\",encoding=\"utf-8\") as f:\n",
    "    content =f.read()\n",
    "    pattern=re.compile(r'\\d\\d\\d.\\d\\d\\d.\\d\\d\\d') \n",
    "    matches=pattern.finditer(sentence)\n",
    "\n",
    "    for match in matches:\n",
    "    print(match)\n",
    "    \n"
   ]
  },
  {
   "cell_type": "code",
   "execution_count": 25,
   "metadata": {},
   "outputs": [
    {
     "name": "stdout",
     "output_type": "stream",
     "text": [
      "<re.Match object; span=(151, 162), match='321-555-432'>\n",
      "<re.Match object; span=(164, 175), match='123.555.123'>\n",
      "<re.Match object; span=(190, 201), match='800-555-123'>\n",
      "<re.Match object; span=(203, 214), match='900-555-123'>\n"
     ]
    }
   ],
   "source": [
    "pattern=re.compile(r'\\d\\d\\d[-.]\\d\\d\\d[-.]\\d\\d\\d')\n",
    "\n",
    "\n",
    "matches=pattern.finditer(text_to_search)\n",
    "\n",
    "for match in matches:\n",
    "    print(match)"
   ]
  },
  {
   "cell_type": "code",
   "execution_count": 26,
   "metadata": {},
   "outputs": [
    {
     "name": "stdout",
     "output_type": "stream",
     "text": [
      "<re.Match object; span=(190, 201), match='800-555-123'>\n",
      "<re.Match object; span=(203, 214), match='900-555-123'>\n"
     ]
    }
   ],
   "source": [
    "pattern=re.compile(r'[89]00[-.]\\d\\d\\d[-.]\\d\\d\\d')\n",
    "\n",
    "\n",
    "matches=pattern.finditer(text_to_search)\n",
    "\n",
    "for match in matches:\n",
    "    print(match)"
   ]
  },
  {
   "cell_type": "code",
   "execution_count": 31,
   "metadata": {},
   "outputs": [
    {
     "name": "stdout",
     "output_type": "stream",
     "text": [
      "<re.Match object; span=(0, 1), match='\\n'>\n",
      "<re.Match object; span=(27, 28), match='\\n'>\n",
      "<re.Match object; span=(54, 55), match='\\n'>\n",
      "<re.Match object; span=(55, 56), match='1'>\n",
      "<re.Match object; span=(56, 57), match='2'>\n",
      "<re.Match object; span=(57, 58), match='3'>\n",
      "<re.Match object; span=(58, 59), match='4'>\n",
      "<re.Match object; span=(59, 60), match='5'>\n",
      "<re.Match object; span=(60, 61), match='6'>\n",
      "<re.Match object; span=(61, 62), match='7'>\n",
      "<re.Match object; span=(62, 63), match='8'>\n",
      "<re.Match object; span=(63, 64), match='9'>\n",
      "<re.Match object; span=(64, 65), match='0'>\n",
      "<re.Match object; span=(65, 66), match='\\n'>\n",
      "<re.Match object; span=(68, 69), match=' '>\n",
      "<re.Match object; span=(73, 74), match='\\n'>\n",
      "<re.Match object; span=(88, 89), match=' '>\n",
      "<re.Match object; span=(89, 90), match='('>\n",
      "<re.Match object; span=(94, 95), match=' '>\n",
      "<re.Match object; span=(97, 98), match=' '>\n",
      "<re.Match object; span=(100, 101), match=' '>\n",
      "<re.Match object; span=(108, 109), match=')'>\n",
      "<re.Match object; span=(109, 110), match=':'>\n",
      "<re.Match object; span=(110, 111), match='\\n'>\n",
      "<re.Match object; span=(111, 112), match='.'>\n",
      "<re.Match object; span=(112, 113), match=' '>\n",
      "<re.Match object; span=(113, 114), match='^'>\n",
      "<re.Match object; span=(114, 115), match=' '>\n",
      "<re.Match object; span=(115, 116), match='$'>\n",
      "<re.Match object; span=(116, 117), match=' '>\n",
      "<re.Match object; span=(117, 118), match='*'>\n",
      "<re.Match object; span=(118, 119), match=' '>\n",
      "<re.Match object; span=(119, 120), match='+'>\n",
      "<re.Match object; span=(120, 121), match=' '>\n",
      "<re.Match object; span=(121, 122), match='?'>\n",
      "<re.Match object; span=(122, 123), match=' '>\n",
      "<re.Match object; span=(123, 124), match='{'>\n",
      "<re.Match object; span=(124, 125), match=' '>\n",
      "<re.Match object; span=(125, 126), match='}'>\n",
      "<re.Match object; span=(126, 127), match=' '>\n",
      "<re.Match object; span=(127, 128), match='['>\n",
      "<re.Match object; span=(128, 129), match=' '>\n",
      "<re.Match object; span=(129, 130), match=']'>\n",
      "<re.Match object; span=(130, 131), match=' '>\n",
      "<re.Match object; span=(131, 132), match='\\\\'>\n",
      "<re.Match object; span=(132, 133), match=' '>\n",
      "<re.Match object; span=(133, 134), match='|'>\n",
      "<re.Match object; span=(134, 135), match=' '>\n",
      "<re.Match object; span=(135, 136), match='('>\n",
      "<re.Match object; span=(136, 137), match=' '>\n",
      "<re.Match object; span=(137, 138), match=')'>\n",
      "<re.Match object; span=(138, 139), match='\\n'>\n",
      "<re.Match object; span=(146, 147), match='.'>\n",
      "<re.Match object; span=(150, 151), match='\\n'>\n",
      "<re.Match object; span=(151, 152), match='3'>\n",
      "<re.Match object; span=(152, 153), match='2'>\n",
      "<re.Match object; span=(153, 154), match='1'>\n",
      "<re.Match object; span=(154, 155), match='-'>\n",
      "<re.Match object; span=(155, 156), match='5'>\n",
      "<re.Match object; span=(156, 157), match='5'>\n",
      "<re.Match object; span=(157, 158), match='5'>\n",
      "<re.Match object; span=(158, 159), match='-'>\n",
      "<re.Match object; span=(159, 160), match='4'>\n",
      "<re.Match object; span=(160, 161), match='3'>\n",
      "<re.Match object; span=(161, 162), match='2'>\n",
      "<re.Match object; span=(162, 163), match='1'>\n",
      "<re.Match object; span=(163, 164), match='\\n'>\n",
      "<re.Match object; span=(164, 165), match='1'>\n",
      "<re.Match object; span=(165, 166), match='2'>\n",
      "<re.Match object; span=(166, 167), match='3'>\n",
      "<re.Match object; span=(167, 168), match='.'>\n",
      "<re.Match object; span=(168, 169), match='5'>\n",
      "<re.Match object; span=(169, 170), match='5'>\n",
      "<re.Match object; span=(170, 171), match='5'>\n",
      "<re.Match object; span=(171, 172), match='.'>\n",
      "<re.Match object; span=(172, 173), match='1'>\n",
      "<re.Match object; span=(173, 174), match='2'>\n",
      "<re.Match object; span=(174, 175), match='3'>\n",
      "<re.Match object; span=(175, 176), match='4'>\n",
      "<re.Match object; span=(176, 177), match='\\n'>\n",
      "<re.Match object; span=(177, 178), match='1'>\n",
      "<re.Match object; span=(178, 179), match='2'>\n",
      "<re.Match object; span=(179, 180), match='3'>\n",
      "<re.Match object; span=(180, 181), match='*'>\n",
      "<re.Match object; span=(181, 182), match='5'>\n",
      "<re.Match object; span=(182, 183), match='5'>\n",
      "<re.Match object; span=(183, 184), match='5'>\n",
      "<re.Match object; span=(184, 185), match='*'>\n",
      "<re.Match object; span=(185, 186), match='1'>\n",
      "<re.Match object; span=(186, 187), match='2'>\n",
      "<re.Match object; span=(187, 188), match='3'>\n",
      "<re.Match object; span=(188, 189), match='4'>\n",
      "<re.Match object; span=(189, 190), match='\\n'>\n",
      "<re.Match object; span=(190, 191), match='8'>\n",
      "<re.Match object; span=(191, 192), match='0'>\n",
      "<re.Match object; span=(192, 193), match='0'>\n",
      "<re.Match object; span=(193, 194), match='-'>\n",
      "<re.Match object; span=(194, 195), match='5'>\n",
      "<re.Match object; span=(195, 196), match='5'>\n",
      "<re.Match object; span=(196, 197), match='5'>\n",
      "<re.Match object; span=(197, 198), match='-'>\n",
      "<re.Match object; span=(198, 199), match='1'>\n",
      "<re.Match object; span=(199, 200), match='2'>\n",
      "<re.Match object; span=(200, 201), match='3'>\n",
      "<re.Match object; span=(201, 202), match='4'>\n",
      "<re.Match object; span=(202, 203), match='\\n'>\n",
      "<re.Match object; span=(203, 204), match='9'>\n",
      "<re.Match object; span=(204, 205), match='0'>\n",
      "<re.Match object; span=(205, 206), match='0'>\n",
      "<re.Match object; span=(206, 207), match='-'>\n",
      "<re.Match object; span=(207, 208), match='5'>\n",
      "<re.Match object; span=(208, 209), match='5'>\n",
      "<re.Match object; span=(209, 210), match='5'>\n",
      "<re.Match object; span=(210, 211), match='-'>\n",
      "<re.Match object; span=(211, 212), match='1'>\n",
      "<re.Match object; span=(212, 213), match='2'>\n",
      "<re.Match object; span=(213, 214), match='3'>\n",
      "<re.Match object; span=(214, 215), match='4'>\n",
      "<re.Match object; span=(215, 216), match='\\n'>\n",
      "<re.Match object; span=(218, 219), match='.'>\n",
      "<re.Match object; span=(219, 220), match=' '>\n",
      "<re.Match object; span=(227, 228), match='\\n'>\n",
      "<re.Match object; span=(230, 231), match=' '>\n",
      "<re.Match object; span=(236, 237), match='\\n'>\n",
      "<re.Match object; span=(239, 240), match=' '>\n",
      "<re.Match object; span=(245, 246), match='\\n'>\n",
      "<re.Match object; span=(249, 250), match='.'>\n",
      "<re.Match object; span=(250, 251), match=' '>\n",
      "<re.Match object; span=(259, 260), match='\\n'>\n",
      "<re.Match object; span=(262, 263), match='.'>\n",
      "<re.Match object; span=(263, 264), match=' '>\n",
      "<re.Match object; span=(265, 266), match='\\n'>\n"
     ]
    }
   ],
   "source": [
    "pattern=re.compile(r'[^a-zA-Z]')\n",
    "\n",
    "\n",
    "matches=pattern.finditer(text_to_search)\n",
    "\n",
    "for match in matches:\n",
    "    print(match)"
   ]
  },
  {
   "cell_type": "code",
   "execution_count": 33,
   "metadata": {},
   "outputs": [
    {
     "name": "stdout",
     "output_type": "stream",
     "text": [
      "<re.Match object; span=(151, 163), match='321-555-4321'>\n",
      "<re.Match object; span=(164, 176), match='123.555.1234'>\n",
      "<re.Match object; span=(177, 189), match='123*555*1234'>\n",
      "<re.Match object; span=(190, 202), match='800-555-1234'>\n",
      "<re.Match object; span=(203, 215), match='900-555-1234'>\n"
     ]
    }
   ],
   "source": [
    "pattern=re.compile(r'\\d{3}.\\d{3}.\\d{4}')\n",
    "\n",
    "\n",
    "matches=pattern.finditer(text_to_search)\n",
    "\n",
    "for match in matches:\n",
    "    print(match)"
   ]
  },
  {
   "cell_type": "code",
   "execution_count": 34,
   "metadata": {},
   "outputs": [
    {
     "name": "stdout",
     "output_type": "stream",
     "text": [
      "<re.Match object; span=(216, 219), match='Mr.'>\n",
      "<re.Match object; span=(260, 263), match='Mr.'>\n"
     ]
    }
   ],
   "source": [
    "pattern=re.compile(r'Mr\\.')\n",
    "\n",
    "\n",
    "matches=pattern.finditer(text_to_search)\n",
    "\n",
    "for match in matches:\n",
    "    print(match)"
   ]
  },
  {
   "cell_type": "code",
   "execution_count": 36,
   "metadata": {},
   "outputs": [
    {
     "name": "stdout",
     "output_type": "stream",
     "text": [
      "<re.Match object; span=(216, 227), match='Mr. Schafer'>\n",
      "<re.Match object; span=(228, 236), match='Mr Smith'>\n",
      "<re.Match object; span=(260, 265), match='Mr. T'>\n"
     ]
    }
   ],
   "source": [
    "pattern=re.compile(r'Mr\\.?\\s[A-Z]\\w*')\n",
    "\n",
    "\n",
    "matches=pattern.finditer(text_to_search)\n",
    "\n",
    "for match in matches:\n",
    "    print(match)"
   ]
  },
  {
   "cell_type": "code",
   "execution_count": 37,
   "metadata": {},
   "outputs": [
    {
     "name": "stdout",
     "output_type": "stream",
     "text": [
      "<re.Match object; span=(1, 24), match='CoreyMSchafer@gmail.com'>\n",
      "<re.Match object; span=(25, 53), match='corey.schafer@university.edu'>\n",
      "<re.Match object; span=(54, 83), match='corey-321-schafer@my-work.net'>\n"
     ]
    }
   ],
   "source": [
    "import re\n",
    "\n",
    "emails = '''\n",
    "CoreyMSchafer@gmail.com\n",
    "corey.schafer@university.edu\n",
    "corey-321-schafer@my-work.net\n",
    "'''\n",
    "\n",
    "pattern = re.compile(r'[a-zA-Z0-9_.+-]+@[a-zA-Z0-9-]+\\.[a-zA-Z0-9-.]+')\n",
    "\n",
    "matches = pattern.finditer(emails)\n",
    "\n",
    "for match in matches:\n",
    "    print(match)"
   ]
  },
  {
   "cell_type": "code",
   "execution_count": 52,
   "metadata": {},
   "outputs": [
    {
     "name": "stdout",
     "output_type": "stream",
     "text": [
      "<re.Match object; span=(1, 24), match='CoreyMSchafer@gmail.com'>\n",
      "<re.Match object; span=(25, 53), match='corey.schafer@university.edu'>\n"
     ]
    }
   ],
   "source": [
    "import re\n",
    "\n",
    "emails = '''\n",
    "CoreyMSchafer@gmail.com\n",
    "corey.schafer@university.edu\n",
    "corey-321-schafer@my-work.net\n",
    "'''\n",
    "\n",
    "pattern = re.compile(r'[a-zA-z.]+@[a-zA-Z]+\\.(com|edu)')\n",
    "\n",
    "matches = pattern.finditer(emails)\n",
    "\n",
    "for match in matches:\n",
    "    print(match)"
   ]
  },
  {
   "cell_type": "code",
   "execution_count": null,
   "metadata": {},
   "outputs": [],
   "source": []
  },
  {
   "cell_type": "code",
   "execution_count": null,
   "metadata": {},
   "outputs": [],
   "source": []
  }
 ],
 "metadata": {
  "kernelspec": {
   "display_name": "Python 3",
   "language": "python",
   "name": "python3"
  },
  "language_info": {
   "codemirror_mode": {
    "name": "ipython",
    "version": 3
   },
   "file_extension": ".py",
   "mimetype": "text/x-python",
   "name": "python",
   "nbconvert_exporter": "python",
   "pygments_lexer": "ipython3",
   "version": "3.7.3"
  }
 },
 "nbformat": 4,
 "nbformat_minor": 2
}
