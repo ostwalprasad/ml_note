{
 "cells": [
  {
   "cell_type": "code",
   "execution_count": 1,
   "metadata": {},
   "outputs": [],
   "source": [
    "##Python Tutorial: Using Try/Except Blocks for Error Handling"
   ]
  },
  {
   "cell_type": "code",
   "execution_count": 5,
   "metadata": {},
   "outputs": [
    {
     "name": "stdout",
     "output_type": "stream",
     "text": [
      "sorry for does not exit\n"
     ]
    }
   ],
   "source": [
    "try:\n",
    "    f=open('testfile.txt')\n",
    "except Exception:\n",
    "    print(\"sorry for does not exit\")\n",
    "    "
   ]
  },
  {
   "cell_type": "code",
   "execution_count": 6,
   "metadata": {},
   "outputs": [
    {
     "name": "stdout",
     "output_type": "stream",
     "text": [
      "[Errno 2] No such file or directory: 'testfile.txt'\n"
     ]
    }
   ],
   "source": [
    "try:\n",
    "    f=open('testfile.txt')\n",
    "    \n",
    "except FileNotFoundError as e:\n",
    "    print(e)\n",
    "    \n",
    "except Exception as e:\n",
    "    print(e)"
   ]
  },
  {
   "cell_type": "code",
   "execution_count": 7,
   "metadata": {},
   "outputs": [
    {
     "name": "stdout",
     "output_type": "stream",
     "text": [
      "[Errno 2] No such file or directory: 'testfile.txt'\n"
     ]
    }
   ],
   "source": [
    "#else block \n",
    "\n",
    "try:\n",
    "    f=open('testfile.txt')\n",
    "    \n",
    "except FileNotFoundError as e:\n",
    "    print(e)\n",
    "    \n",
    "except Exception as e:\n",
    "    print(e)\n",
    "    \n",
    "else:\n",
    "    print(f.read())\n",
    "    f.close()"
   ]
  },
  {
   "cell_type": "code",
   "execution_count": 8,
   "metadata": {},
   "outputs": [
    {
     "name": "stdout",
     "output_type": "stream",
     "text": [
      "[Errno 2] No such file or directory: 'testfile.txt'\n",
      "wrong_always\n"
     ]
    }
   ],
   "source": [
    "\n",
    "try:\n",
    "    f=open('testfile.txt')\n",
    "    \n",
    "except FileNotFoundError as e:\n",
    "    print(e)\n",
    "    \n",
    "except Exception as e:\n",
    "    print(e)\n",
    "    \n",
    "else:\n",
    "    print(f.read())\n",
    "    f.close()\n",
    "    \n",
    "finally:\n",
    "    print(\"wrong_always\")"
   ]
  },
  {
   "cell_type": "code",
   "execution_count": 12,
   "metadata": {},
   "outputs": [
    {
     "name": "stdout",
     "output_type": "stream",
     "text": [
      "worng !!\n",
      "WRONG Directory \n"
     ]
    }
   ],
   "source": [
    "try:\n",
    "    f=open('testfile.txt')\n",
    "    f.name==\"testfile.txt\"\n",
    "    raise Exception\n",
    "    \n",
    "except FileNotFoundError as e:\n",
    "    print(\"worng !!\")\n",
    "    \n",
    "except Exception as e:\n",
    "    print(\"wrong\")\n",
    "    \n",
    "else:\n",
    "    print(f.read())\n",
    "    f.close()\n",
    "    \n",
    "finally:\n",
    "    print(\"WRONG Directory \")"
   ]
  },
  {
   "cell_type": "code",
   "execution_count": null,
   "metadata": {},
   "outputs": [],
   "source": []
  }
 ],
 "metadata": {
  "kernelspec": {
   "display_name": "Python 3",
   "language": "python",
   "name": "python3"
  },
  "language_info": {
   "codemirror_mode": {
    "name": "ipython",
    "version": 3
   },
   "file_extension": ".py",
   "mimetype": "text/x-python",
   "name": "python",
   "nbconvert_exporter": "python",
   "pygments_lexer": "ipython3",
   "version": "3.7.3"
  }
 },
 "nbformat": 4,
 "nbformat_minor": 2
}
